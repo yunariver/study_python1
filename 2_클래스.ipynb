{
  "nbformat": 4,
  "nbformat_minor": 0,
  "metadata": {
    "colab": {
      "provenance": [],
      "include_colab_link": true
    },
    "kernelspec": {
      "name": "python3",
      "display_name": "Python 3"
    },
    "language_info": {
      "name": "python"
    }
  },
  "cells": [
    {
      "cell_type": "markdown",
      "metadata": {
        "id": "view-in-github",
        "colab_type": "text"
      },
      "source": [
        "<a href=\"https://colab.research.google.com/github/yunariver/study_python1/blob/main/2_%ED%81%B4%EB%9E%98%EC%8A%A4.ipynb\" target=\"_parent\"><img src=\"https://colab.research.google.com/assets/colab-badge.svg\" alt=\"Open In Colab\"/></a>"
      ]
    },
    {
      "cell_type": "markdown",
      "source": [
        "# 클래스"
      ],
      "metadata": {
        "id": "4Te6rYFh67wG"
      }
    },
    {
      "cell_type": "markdown",
      "source": [
        "## 붕어빵 예시"
      ],
      "metadata": {
        "id": "60OqUSnK69t9"
      }
    },
    {
      "cell_type": "code",
      "execution_count": null,
      "metadata": {
        "id": "hognDCmanAl0"
      },
      "outputs": [],
      "source": [
        "class 붕어빵:\n",
        "  def __init__(self, 속재료):\n",
        "    self.속재료 = 속재료"
      ]
    },
    {
      "cell_type": "code",
      "source": [
        "피자붕어빵 = 붕어빵('피자')\n",
        "팥붕어빵 = 붕어빵('팥')"
      ],
      "metadata": {
        "id": "fosaDx-SnE_e"
      },
      "execution_count": null,
      "outputs": []
    },
    {
      "cell_type": "code",
      "source": [
        "피자붕어빵.속재료"
      ],
      "metadata": {
        "id": "xiFffxEgnGN4"
      },
      "execution_count": null,
      "outputs": []
    },
    {
      "cell_type": "markdown",
      "source": [
        "## 클래스 만들기"
      ],
      "metadata": {
        "id": "v14fxJZc6_vZ"
      }
    },
    {
      "cell_type": "code",
      "source": [
        "class FourCal:\n",
        "  def set_data(self, num1, num2):\n",
        "    self.num1 = num1\n",
        "    self.num2 = num2\n",
        "\n",
        "  def add(self):\n",
        "    return self.num1 + self.num2\n",
        "\n",
        "a = FourCal()\n",
        "a.set_data(10,20)\n",
        "\n",
        "print(a.num1, a.num2)\n",
        "print(a.add())"
      ],
      "metadata": {
        "colab": {
          "base_uri": "https://localhost:8080/"
        },
        "id": "CfyeCO6y7BZJ",
        "outputId": "20af2116-dc2d-41b0-a5a2-e4938abcba4e"
      },
      "execution_count": null,
      "outputs": [
        {
          "output_type": "stream",
          "name": "stdout",
          "text": [
            "10 20\n",
            "30\n"
          ]
        }
      ]
    },
    {
      "cell_type": "code",
      "source": [
        "class FourCal:\n",
        "  def __init__(self, num1, num2):\n",
        "    self.num1 = num1\n",
        "    self.num2 = num2\n",
        "\n",
        "  def add(self):\n",
        "    return self.num1 + self.num2\n",
        "\n",
        "a = FourCal(10,20)\n",
        "\n",
        "print(a.num1, a.num2)\n",
        "print(a.add())"
      ],
      "metadata": {
        "colab": {
          "base_uri": "https://localhost:8080/"
        },
        "id": "I_hL2mil9kJX",
        "outputId": "66cae966-d2ff-4adb-a1a1-e9375605b288"
      },
      "execution_count": null,
      "outputs": [
        {
          "output_type": "stream",
          "name": "stdout",
          "text": [
            "10 20\n",
            "30\n"
          ]
        }
      ]
    },
    {
      "cell_type": "markdown",
      "source": [
        "## 실습문제\n",
        "1. BackAccount이름의 클래스를 생성합니다.\n",
        "2. 생성자 메서드로, 계좌 번호, 예금주 이름, 초기 잔액을 받아 계좌를 생성합니다.\n",
        "3. 입금, 출금, 현재 계좌의 잔액을 반환하는 메서드를 생성합니다."
      ],
      "metadata": {
        "id": "AsIC_AJyGHr3"
      }
    },
    {
      "cell_type": "code",
      "source": [
        "class BankAccount:\n",
        "  def __init__(self, 계좌번호, 이름, 잔액):\n",
        "    self.계좌번호 = 계좌번호\n",
        "    self.이름 = 이름\n",
        "    self.잔액 = 잔액\n",
        "\n",
        "  def 입금(self, 금액):\n",
        "    self.잔액 = self.잔액 + 금액\n",
        "\n",
        "  def 출금(self, 금액):\n",
        "    self.잔액 = self.잔액 - 금액\n",
        "\n",
        "  def 잔액조회(self):\n",
        "    print(f'{self.이름}님의 잔고는 {self.잔액}입니다.')\n",
        "\n",
        "최진영계좌 = BankAccount('123-456-789', '최진영', 50000)\n",
        "홍길동계좌 = BankAccount('231-456-780', '홍길동', 100000)\n",
        "\n",
        "print(최진영계좌.잔액)\n",
        "최진영계좌.입금(50000)\n",
        "print(최진영계좌.잔액)\n",
        "최진영계좌.출금(30000)\n",
        "print(최진영계좌.잔액)\n",
        "최진영계좌.잔액조회()"
      ],
      "metadata": {
        "colab": {
          "base_uri": "https://localhost:8080/"
        },
        "id": "fgRqwhf7GTlA",
        "outputId": "6d083239-3f81-4bb2-e72c-3570a72acf64"
      },
      "execution_count": null,
      "outputs": [
        {
          "output_type": "stream",
          "name": "stdout",
          "text": [
            "50000\n",
            "100000\n",
            "70000\n",
            "최진영님의 잔고는 70000입니다.\n"
          ]
        }
      ]
    },
    {
      "cell_type": "markdown",
      "source": [
        "## 상속"
      ],
      "metadata": {
        "id": "hxrxYG7NMWdL"
      }
    },
    {
      "cell_type": "code",
      "source": [
        "class FourCal:\n",
        "    def __init__(self, num1, num2):\n",
        "        self.num1 = num1\n",
        "        self.num2 = num2\n",
        "\n",
        "    def add(self):\n",
        "        return self.num1 + self.num2\n",
        "\n",
        "    def subtract(self):\n",
        "        return self.num1 - self.num2\n",
        "\n",
        "    def multiply(self):\n",
        "        return self.num1 * self.num2\n",
        "\n",
        "    def divide(self):\n",
        "        return self.num1 / self.num2"
      ],
      "metadata": {
        "id": "fOil_VszMZb2"
      },
      "execution_count": null,
      "outputs": []
    },
    {
      "cell_type": "code",
      "source": [
        "class MoreFourCal(FourCal):\n",
        "  def divide(self):\n",
        "    if self.num2 == 0:\n",
        "      return 0\n",
        "    else:\n",
        "      return self.num1 / self.num2"
      ],
      "metadata": {
        "id": "yIqjavVbM832"
      },
      "execution_count": null,
      "outputs": []
    },
    {
      "cell_type": "code",
      "source": [
        "a = MoreFourCal(2, 0)\n",
        "a.divide()"
      ],
      "metadata": {
        "colab": {
          "base_uri": "https://localhost:8080/"
        },
        "id": "5XtOTe3jNIvU",
        "outputId": "2fb39706-be25-4452-bbcf-8f26d46cd1f0"
      },
      "execution_count": null,
      "outputs": [
        {
          "output_type": "execute_result",
          "data": {
            "text/plain": [
              "0"
            ]
          },
          "metadata": {},
          "execution_count": 20
        }
      ]
    }
  ]
}